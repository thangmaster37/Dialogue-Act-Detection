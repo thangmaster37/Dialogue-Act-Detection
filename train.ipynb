{
 "cells": [
  {
   "cell_type": "code",
   "execution_count": 21,
   "metadata": {},
   "outputs": [],
   "source": [
    "import json\n",
    "from transformers import BertTokenizer, BertModel\n",
    "import torch\n",
    "import torch.nn as nn\n",
    "import torch.optim as optim\n",
    "from sklearn.model_selection import train_test_split\n",
    "from torch.utils.data import DataLoader, Dataset\n",
    "from sklearn.metrics import f1_score, classification_report\n",
    "from scripts.extraction import load_data_from_json\n",
    "from models.bert_model import BERTClassifier, DialogueActDataset"
   ]
  },
  {
   "cell_type": "code",
   "execution_count": 22,
   "metadata": {},
   "outputs": [],
   "source": [
    "# Training and evaluation function\n",
    "def train_and_evaluate_model(model, train_loader, val_loader, test_loader, optimizer, criterion, num_epochs=20, device='cpu'):\n",
    "    model = model.to(device)\n",
    "    for epoch in range(num_epochs):\n",
    "        model.train()\n",
    "        total_loss = 0\n",
    "        for input_ids, attention_mask, labels in train_loader:\n",
    "            input_ids, attention_mask, labels = input_ids.to(device), attention_mask.to(device), labels.to(device)\n",
    "\n",
    "            optimizer.zero_grad()\n",
    "            logits = model(input_ids, attention_mask)  # Chuyển cả input_ids và attention_mask vào mô hình\n",
    "            loss = criterion(logits, labels)  # BCEWithLogitsLoss cho multi-label classification\n",
    "            loss.backward()\n",
    "            optimizer.step()\n",
    "            total_loss += loss.item()\n",
    "\n",
    "        print(f\"Epoch {epoch + 1}/{num_epochs}, Training Loss: {total_loss / len(train_loader):.4f}\")\n",
    "\n",
    "        # Validation\n",
    "        model.eval()\n",
    "        val_loss = 0\n",
    "        with torch.no_grad():\n",
    "            for input_ids, attention_mask, labels in val_loader:\n",
    "                input_ids, attention_mask, labels = input_ids.to(device), attention_mask.to(device), labels.to(device)\n",
    "                logits = model(input_ids, attention_mask)  # Chuyển cả input_ids và attention_mask vào mô hình\n",
    "                loss = criterion(logits, labels)\n",
    "                val_loss += loss.item()\n",
    "\n",
    "        print(f\"Epoch {epoch + 1}/{num_epochs}, Validation Loss: {val_loss / len(val_loader):.4f}\")\n",
    "\n",
    "    # Evaluation trên test data\n",
    "    model.eval()\n",
    "    all_preds = []\n",
    "    all_labels = []\n",
    "    with torch.no_grad():\n",
    "        for input_ids, attention_mask, labels in test_loader:\n",
    "            input_ids, attention_mask, labels = input_ids.to(device), attention_mask.to(device), labels.to(device)\n",
    "            preds = torch.sigmoid(model(input_ids, attention_mask))  # Chuyển cả input_ids và attention_mask vào mô hình\n",
    "            all_preds.append(preds)\n",
    "            all_labels.append(labels)\n",
    "\n",
    "    # Flatten predictions và labels\n",
    "    all_preds = torch.cat(all_preds, dim=0)\n",
    "    all_labels = torch.cat(all_labels, dim=0)\n",
    "\n",
    "    # Threshold predictions (ví dụ: nếu sigmoid output > 0.5, coi là 1)\n",
    "    all_preds = (all_preds > 0.5).float()\n",
    "\n",
    "    # Tính toán F1-score cho từng lớp\n",
    "    f1 = f1_score(all_labels.cpu(), all_preds.cpu(), average='macro')  # Tính F1-score với average là 'macro'\n",
    "    print(f\"F1 Score (Macro): {f1:.4f}\")\n",
    "\n",
    "    # Cũng có thể sử dụng classification_report để hiển thị các chỉ số như precision, recall và F1 cho mỗi lớp\n",
    "    report = classification_report(all_labels.cpu(), all_preds.cpu(), target_names=[f\"Class {i}\" for i in range(all_labels.size(1))])\n",
    "    print(\"Classification Report:\")\n",
    "    print(report)\n",
    "\n",
    "    # Evaluation metric (ví dụ: accuracy)\n",
    "    accuracy = (all_preds == all_labels).float().mean()\n",
    "    print(f\"Accuracy on test set: {accuracy:.4f}\")"
   ]
  },
  {
   "cell_type": "code",
   "execution_count": 23,
   "metadata": {},
   "outputs": [],
   "source": [
    "# Predict function to test with any utterance\n",
    "def predict(model, utterance, tokenizer, label_list, max_len=50, device='cpu'):\n",
    "    model.eval()  # Chuyển sang chế độ đánh giá\n",
    "    tokens = tokenizer(utterance, truncation=True, padding='max_length', max_length=max_len, return_tensors='pt')\n",
    "    input_ids = tokens['input_ids'].squeeze(0).to(device)\n",
    "    attention_mask = tokens['attention_mask'].squeeze(0).to(device)\n",
    "\n",
    "    with torch.no_grad():\n",
    "        logits = model(input_ids.unsqueeze(0), attention_mask.unsqueeze(0))\n",
    "\n",
    "    preds = torch.sigmoid(logits).cpu().numpy()\n",
    "    preds = (preds > 0.5).astype(int)  # Chuyển kết quả thành 0 hoặc 1\n",
    "\n",
    "    predicted_labels = [label_list[i] for i in range(len(preds[0])) if preds[0][i] == 1]\n",
    "    return predicted_labels\n"
   ]
  },
  {
   "cell_type": "code",
   "execution_count": 27,
   "metadata": {},
   "outputs": [],
   "source": [
    "# Main function\n",
    "def main():\n",
    "    device = torch.device(\"cuda\" if torch.cuda.is_available() else \"cpu\")\n",
    "\n",
    "    # Load the train, validation, and test data from JSON files\n",
    "    train_data = load_data_from_json('C:/Users/thang/Desktop/NLP/assignment/dialogue_systems/data/processed_data/train.json')\n",
    "    val_data = load_data_from_json('C:/Users/thang/Desktop/NLP/assignment/dialogue_systems/data/processed_data/val.json')\n",
    "    test_data = load_data_from_json('C:/Users/thang/Desktop/NLP/assignment/dialogue_systems/data/processed_data/test.json')\n",
    "\n",
    "    label_list = list(set([label for labels in train_data.values() for label in labels]))\n",
    "\n",
    "    tokenizer = BertTokenizer.from_pretrained('bert-base-uncased')\n",
    "    max_len = 40\n",
    "\n",
    "    train_dataset = DialogueActDataset(list(train_data.items()), tokenizer, max_len, label_list)\n",
    "    val_dataset = DialogueActDataset(list(val_data.items()), tokenizer, max_len, label_list)\n",
    "    test_dataset = DialogueActDataset(list(test_data.items()), tokenizer, max_len, label_list)\n",
    "\n",
    "    train_loader = DataLoader(train_dataset, batch_size=100, shuffle=True)\n",
    "    val_loader = DataLoader(val_dataset, batch_size=100)\n",
    "    test_loader = DataLoader(test_dataset, batch_size=100)\n",
    "\n",
    "    bert_model = BERTClassifier(num_labels=len(label_list)).to(device)\n",
    "    optimizer = optim.Adam(bert_model.parameters(), lr=1e-5)\n",
    "    criterion = nn.BCEWithLogitsLoss()\n",
    "\n",
    "    print(\"Training BERT Model\")\n",
    "    train_and_evaluate_model(bert_model, train_loader, val_loader, test_loader, optimizer, criterion, num_epochs=10, device=device)\n",
    "\n",
    "    # Save the model\n",
    "    torch.save(bert_model.state_dict(), 'bert_model.pth')\n",
    "\n",
    "    # Test with a new utterance\n",
    "    utterance = \"What type of food would you like?\"\n",
    "    predicted_labels = predict(bert_model, utterance, tokenizer, label_list, max_len, device)\n",
    "    print(f\"Predicted Dialogue Acts for the utterance: {predicted_labels}\")"
   ]
  },
  {
   "cell_type": "code",
   "execution_count": 28,
   "metadata": {},
   "outputs": [
    {
     "name": "stdout",
     "output_type": "stream",
     "text": [
      "Training BERT Model\n"
     ]
    },
    {
     "ename": "KeyboardInterrupt",
     "evalue": "",
     "output_type": "error",
     "traceback": [
      "\u001b[1;31m---------------------------------------------------------------------------\u001b[0m",
      "\u001b[1;31mKeyboardInterrupt\u001b[0m                         Traceback (most recent call last)",
      "\u001b[1;32mc:\\Users\\thang\\Desktop\\NLP\\assignment\\dialogue_systems\\train.ipynb Cell 5\u001b[0m line \u001b[0;36m1\n\u001b[1;32m----> <a href='vscode-notebook-cell:/c%3A/Users/thang/Desktop/NLP/assignment/dialogue_systems/train.ipynb#W3sZmlsZQ%3D%3D?line=0'>1</a>\u001b[0m main()\n",
      "\u001b[1;32mc:\\Users\\thang\\Desktop\\NLP\\assignment\\dialogue_systems\\train.ipynb Cell 5\u001b[0m line \u001b[0;36m2\n\u001b[0;32m     <a href='vscode-notebook-cell:/c%3A/Users/thang/Desktop/NLP/assignment/dialogue_systems/train.ipynb#W3sZmlsZQ%3D%3D?line=24'>25</a>\u001b[0m criterion \u001b[39m=\u001b[39m nn\u001b[39m.\u001b[39mBCEWithLogitsLoss()\n\u001b[0;32m     <a href='vscode-notebook-cell:/c%3A/Users/thang/Desktop/NLP/assignment/dialogue_systems/train.ipynb#W3sZmlsZQ%3D%3D?line=26'>27</a>\u001b[0m \u001b[39mprint\u001b[39m(\u001b[39m\"\u001b[39m\u001b[39mTraining BERT Model\u001b[39m\u001b[39m\"\u001b[39m)\n\u001b[1;32m---> <a href='vscode-notebook-cell:/c%3A/Users/thang/Desktop/NLP/assignment/dialogue_systems/train.ipynb#W3sZmlsZQ%3D%3D?line=27'>28</a>\u001b[0m train_and_evaluate_model(bert_model, train_loader, val_loader, test_loader, optimizer, criterion, num_epochs\u001b[39m=\u001b[39;49m\u001b[39m10\u001b[39;49m, device\u001b[39m=\u001b[39;49mdevice)\n\u001b[0;32m     <a href='vscode-notebook-cell:/c%3A/Users/thang/Desktop/NLP/assignment/dialogue_systems/train.ipynb#W3sZmlsZQ%3D%3D?line=29'>30</a>\u001b[0m \u001b[39m# Save the model\u001b[39;00m\n\u001b[0;32m     <a href='vscode-notebook-cell:/c%3A/Users/thang/Desktop/NLP/assignment/dialogue_systems/train.ipynb#W3sZmlsZQ%3D%3D?line=30'>31</a>\u001b[0m torch\u001b[39m.\u001b[39msave(bert_model\u001b[39m.\u001b[39mstate_dict(), \u001b[39m'\u001b[39m\u001b[39mbert_model.pth\u001b[39m\u001b[39m'\u001b[39m)\n",
      "\u001b[1;32mc:\\Users\\thang\\Desktop\\NLP\\assignment\\dialogue_systems\\train.ipynb Cell 5\u001b[0m line \u001b[0;36m1\n\u001b[0;32m     <a href='vscode-notebook-cell:/c%3A/Users/thang/Desktop/NLP/assignment/dialogue_systems/train.ipynb#W3sZmlsZQ%3D%3D?line=10'>11</a>\u001b[0m logits \u001b[39m=\u001b[39m model(input_ids, attention_mask)  \u001b[39m# Chuyển cả input_ids và attention_mask vào mô hình\u001b[39;00m\n\u001b[0;32m     <a href='vscode-notebook-cell:/c%3A/Users/thang/Desktop/NLP/assignment/dialogue_systems/train.ipynb#W3sZmlsZQ%3D%3D?line=11'>12</a>\u001b[0m loss \u001b[39m=\u001b[39m criterion(logits, labels)  \u001b[39m# BCEWithLogitsLoss cho multi-label classification\u001b[39;00m\n\u001b[1;32m---> <a href='vscode-notebook-cell:/c%3A/Users/thang/Desktop/NLP/assignment/dialogue_systems/train.ipynb#W3sZmlsZQ%3D%3D?line=12'>13</a>\u001b[0m loss\u001b[39m.\u001b[39;49mbackward()\n\u001b[0;32m     <a href='vscode-notebook-cell:/c%3A/Users/thang/Desktop/NLP/assignment/dialogue_systems/train.ipynb#W3sZmlsZQ%3D%3D?line=13'>14</a>\u001b[0m optimizer\u001b[39m.\u001b[39mstep()\n\u001b[0;32m     <a href='vscode-notebook-cell:/c%3A/Users/thang/Desktop/NLP/assignment/dialogue_systems/train.ipynb#W3sZmlsZQ%3D%3D?line=14'>15</a>\u001b[0m total_loss \u001b[39m+\u001b[39m\u001b[39m=\u001b[39m loss\u001b[39m.\u001b[39mitem()\n",
      "File \u001b[1;32mc:\\Users\\thang\\AppData\\Local\\Programs\\Python\\Python310\\lib\\site-packages\\torch\\_tensor.py:522\u001b[0m, in \u001b[0;36mTensor.backward\u001b[1;34m(self, gradient, retain_graph, create_graph, inputs)\u001b[0m\n\u001b[0;32m    512\u001b[0m \u001b[39mif\u001b[39;00m has_torch_function_unary(\u001b[39mself\u001b[39m):\n\u001b[0;32m    513\u001b[0m     \u001b[39mreturn\u001b[39;00m handle_torch_function(\n\u001b[0;32m    514\u001b[0m         Tensor\u001b[39m.\u001b[39mbackward,\n\u001b[0;32m    515\u001b[0m         (\u001b[39mself\u001b[39m,),\n\u001b[1;32m   (...)\u001b[0m\n\u001b[0;32m    520\u001b[0m         inputs\u001b[39m=\u001b[39minputs,\n\u001b[0;32m    521\u001b[0m     )\n\u001b[1;32m--> 522\u001b[0m torch\u001b[39m.\u001b[39;49mautograd\u001b[39m.\u001b[39;49mbackward(\n\u001b[0;32m    523\u001b[0m     \u001b[39mself\u001b[39;49m, gradient, retain_graph, create_graph, inputs\u001b[39m=\u001b[39;49minputs\n\u001b[0;32m    524\u001b[0m )\n",
      "File \u001b[1;32mc:\\Users\\thang\\AppData\\Local\\Programs\\Python\\Python310\\lib\\site-packages\\torch\\autograd\\__init__.py:266\u001b[0m, in \u001b[0;36mbackward\u001b[1;34m(tensors, grad_tensors, retain_graph, create_graph, grad_variables, inputs)\u001b[0m\n\u001b[0;32m    261\u001b[0m     retain_graph \u001b[39m=\u001b[39m create_graph\n\u001b[0;32m    263\u001b[0m \u001b[39m# The reason we repeat the same comment below is that\u001b[39;00m\n\u001b[0;32m    264\u001b[0m \u001b[39m# some Python versions print out the first line of a multi-line function\u001b[39;00m\n\u001b[0;32m    265\u001b[0m \u001b[39m# calls in the traceback and some print out the last line\u001b[39;00m\n\u001b[1;32m--> 266\u001b[0m Variable\u001b[39m.\u001b[39;49m_execution_engine\u001b[39m.\u001b[39;49mrun_backward(  \u001b[39m# Calls into the C++ engine to run the backward pass\u001b[39;49;00m\n\u001b[0;32m    267\u001b[0m     tensors,\n\u001b[0;32m    268\u001b[0m     grad_tensors_,\n\u001b[0;32m    269\u001b[0m     retain_graph,\n\u001b[0;32m    270\u001b[0m     create_graph,\n\u001b[0;32m    271\u001b[0m     inputs,\n\u001b[0;32m    272\u001b[0m     allow_unreachable\u001b[39m=\u001b[39;49m\u001b[39mTrue\u001b[39;49;00m,\n\u001b[0;32m    273\u001b[0m     accumulate_grad\u001b[39m=\u001b[39;49m\u001b[39mTrue\u001b[39;49;00m,\n\u001b[0;32m    274\u001b[0m )\n",
      "\u001b[1;31mKeyboardInterrupt\u001b[0m: "
     ]
    }
   ],
   "source": [
    "main()"
   ]
  },
  {
   "cell_type": "code",
   "execution_count": null,
   "metadata": {},
   "outputs": [],
   "source": []
  },
  {
   "cell_type": "code",
   "execution_count": null,
   "metadata": {},
   "outputs": [],
   "source": []
  }
 ],
 "metadata": {
  "kernelspec": {
   "display_name": "Python 3",
   "language": "python",
   "name": "python3"
  },
  "language_info": {
   "codemirror_mode": {
    "name": "ipython",
    "version": 3
   },
   "file_extension": ".py",
   "mimetype": "text/x-python",
   "name": "python",
   "nbconvert_exporter": "python",
   "pygments_lexer": "ipython3",
   "version": "3.10.10"
  }
 },
 "nbformat": 4,
 "nbformat_minor": 2
}
